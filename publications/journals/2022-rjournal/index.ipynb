{
  "cells": [
    {
      "cell_type": "raw",
      "metadata": {},
      "source": [
        "---\n",
        "author: Pablo Cordero, Manuel Enciso, Domingo López-Rodríguez, Ángel Mora\n",
        "Status: Published\n",
        "date: '2022-09-01T00:00:00Z'\n",
        "slug: 2022-rjournal\n",
        "title: fcaR, Formal Concept Analysis with R\n",
        "categories:\n",
        "- Formal concept analysis\n",
        "- R package\n",
        "header_image: ~\n",
        "details: <em>The R Journal</em>\n",
        "doi: 10.32614/RJ-2022-014\n",
        "link: 2022-rjournal/paper.pdf\n",
        "project: 2019-flair\n",
        "abstract: Formal concept analysis (FCA) is a solid mathematical framework to manage\n",
        "  information based on logic and lattice theory. It defines two explicit representations\n",
        "  of the knowledge present in a dataset as concepts and implications. This paper describes\n",
        "  an R package called fcaR that implements FCA's core notions and techniques. Additionally,\n",
        "  it implements the extension of FCA to fuzzy datasets and a simplification logic\n",
        "  to develop automated reasoning tools. This package is the first to implement FCA\n",
        "  techniques in R. Therefore, emphasis has been put on defining classes and methods\n",
        "  that could be reusable and extensible by the community. Furthermore, the package\n",
        "  incorporates an interface with the arules package, probably the most used package\n",
        "  regarding association rules, closely related to FCA. Finally, we show an application\n",
        "  of the use of the package to design a recommender system based on logic for diagnosis\n",
        "  in neurological pathologies.\n",
        "bibtex: '`r library(RefManageR); s <- ReadBib(\"cite.bib\"); NoCite(s); capture.output(PrintBibliography(s, .opts = list(bib.style = \"alphabetic\", style = \"markdown\")))`'\n",
        "keywords: Formal concept analysis, R package\n",
        "---"
      ],
      "id": "5f0cfd10"
    },
    {
      "cell_type": "markdown",
      "metadata": {},
      "source": [
        "```{html}\n",
        "<div>\n",
        "  <div class=\"abstract\">\n",
        "    <div class=\"abstract-title\">BibTeX</div>\n",
        "```\n",
        "\n",
        "    `r source(\"../../../format_bibtex.R\");format_bibtex(\"cite.bib\")`\n",
        "\n",
        "```{html}\n",
        "  </div>\n",
        "</div>\n",
        "```"
      ],
      "id": "2ba6b8ce"
    }
  ],
  "metadata": {
    "kernelspec": {
      "display_name": "Python 3",
      "language": "python",
      "name": "python3"
    }
  },
  "nbformat": 4,
  "nbformat_minor": 5
}